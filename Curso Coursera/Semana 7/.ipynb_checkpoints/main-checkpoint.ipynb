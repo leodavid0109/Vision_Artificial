{
 "cells": [
  {
   "cell_type": "markdown",
   "metadata": {
    "deletable": false,
    "editable": false,
    "nbgrader": {
     "cell_type": "markdown",
     "checksum": "c77ba12daeba076431da36ba4c384d52",
     "grade": false,
     "grade_id": "cell-63c2b120a4329824",
     "locked": true,
     "schema_version": 3,
     "solution": false,
     "task": false
    }
   },
   "source": [
    "# Procesamiento de imágenes · Tarea 6\n",
    "\n",
    "En esta tarea aplicaremos lo aprendido sobre procesamiento morfológico, incluyendo dilatación, erosión y _region growing_.\n",
    "\n",
    "### Importante\n",
    "* Lee atentamente las instrucciones y todo el código.\n",
    "* Ejecuta las celdas en orden.\n",
    "* Escribe tu código en las celdas que lo soliciten.\n",
    "* Usa los nombres de variables que te pidan.\n",
    "* Confirma que tu código esté correcto corriendo las celdas que dicen \"Chequeo\".\n",
    "* Si el chequeo alerta que hay alguna variable incorrecta, vuelve atrás y arréglala. No hay penalización por esto."
   ]
  },
  {
   "cell_type": "markdown",
   "metadata": {
    "deletable": false,
    "editable": false,
    "nbgrader": {
     "cell_type": "markdown",
     "checksum": "9d754c7ea5970c15b40c3ddb227d17b2",
     "grade": false,
     "grade_id": "cell-f5f3f6013c0b524b",
     "locked": true,
     "schema_version": 3,
     "solution": false,
     "task": false
    }
   },
   "source": [
    "## Configuración inicial"
   ]
  },
  {
   "cell_type": "markdown",
   "metadata": {
    "deletable": false,
    "editable": false,
    "nbgrader": {
     "cell_type": "markdown",
     "checksum": "1a81370467b30c80948e4ab02834972e",
     "grade": false,
     "grade_id": "cell-84e7c98fbeaf508d",
     "locked": true,
     "schema_version": 3,
     "solution": false,
     "task": false
    }
   },
   "source": [
    "##### Importamos librerías"
   ]
  },
  {
   "cell_type": "code",
   "execution_count": 1,
   "metadata": {
    "deletable": false,
    "editable": false,
    "nbgrader": {
     "cell_type": "code",
     "checksum": "fceb6f1a6fc7be495efcf47265b7fa06",
     "grade": false,
     "grade_id": "cell-c193f10fe5f68de8",
     "locked": true,
     "schema_version": 3,
     "solution": false,
     "task": false
    }
   },
   "outputs": [],
   "source": [
    "import cv2\n",
    "import matplotlib.pyplot as plt\n",
    "import numpy as np\n",
    "\n",
    "import checker\n",
    "import importlib"
   ]
  },
  {
   "cell_type": "markdown",
   "metadata": {
    "deletable": false,
    "editable": false,
    "nbgrader": {
     "cell_type": "markdown",
     "checksum": "deeba01c0f58f6f41d7c7b37e7e0c738",
     "grade": false,
     "grade_id": "cell-27ac17e05cc8dade",
     "locked": true,
     "schema_version": 3,
     "solution": false,
     "task": false
    }
   },
   "source": [
    "##### Aumentamos el tamaño de las imágenes"
   ]
  },
  {
   "cell_type": "code",
   "execution_count": 2,
   "metadata": {
    "deletable": false,
    "editable": false,
    "nbgrader": {
     "cell_type": "code",
     "checksum": "c6b9ad1a7f85bf374b370359e0a65296",
     "grade": false,
     "grade_id": "cell-28fc5e514abb28cb",
     "locked": true,
     "schema_version": 3,
     "solution": false,
     "task": false
    }
   },
   "outputs": [],
   "source": [
    "plt.rcParams['figure.dpi'] = 200"
   ]
  },
  {
   "cell_type": "markdown",
   "metadata": {
    "deletable": false,
    "editable": false,
    "nbgrader": {
     "cell_type": "markdown",
     "checksum": "13a2a90feca7130b34f5b7be15319876",
     "grade": false,
     "grade_id": "cell-d9d48d6f246e061d",
     "locked": true,
     "schema_version": 3,
     "solution": false,
     "task": false
    }
   },
   "source": [
    "## Parte 1 · _Region growing_ para una imagen binaria\n",
    "\n",
    "Comencemos con una pequeña imagen binaria de un corazón."
   ]
  },
  {
   "cell_type": "code",
   "execution_count": 3,
   "metadata": {
    "deletable": false,
    "editable": false,
    "nbgrader": {
     "cell_type": "code",
     "checksum": "c17cd42573613e5a05890236f21148db",
     "grade": false,
     "grade_id": "cell-8efc48c2ce7c42aa",
     "locked": true,
     "schema_version": 3,
     "solution": false,
     "task": false
    }
   },
   "outputs": [
    {
     "data": {
      "image/png": "[encoded data removed]",
      "text/plain": [
       "<Figure size 1200x800 with 1 Axes>"
      ]
     },
     "metadata": {
      "needs_background": "light"
     },
     "output_type": "display_data"
    }
   ],
   "source": [
    "img_pixel = np.zeros((11, 13), dtype=np.uint8)\n",
    "\n",
    "coords = ((1,3), (1,4), (1, 8), (1, 9), (2, 2), (2, 5),\n",
    "          (2, 7), (2, 10), (3, 1), (3, 6), (3, 11), (4, 1),\n",
    "          (4, 11), (5, 2), (5, 10), (6, 3), (6, 9), (7, 4),\n",
    "          (7, 8), (8, 5), (8, 7), (9, 6))\n",
    "\n",
    "img_pixel[tuple(zip(*coords))] = 1\n",
    "\n",
    "plt.imshow(img_pixel, cmap='gray')\n",
    "plt.axis('off');"
   ]
  },
  {
   "cell_type": "markdown",
   "metadata": {
    "deletable": false,
    "editable": false,
    "nbgrader": {
     "cell_type": "markdown",
     "checksum": "9c417821aa7b87c296ca54dbc8d48290",
     "grade": false,
     "grade_id": "cell-ad192a88671b3632",
     "locked": true,
     "schema_version": 3,
     "solution": false,
     "task": false
    }
   },
   "source": [
    "En clases vimos un algoritmo de _region growing_ que dilata un pixel semilla para ir rellenando el área dentro de un perímetro.\n",
    "\n",
    "Implementa este algoritmo en la función ```region_growing_morphology```, recibiendo una imagen binaria (como ```img_pixel```) y las coordenadas del pixel semilla como una tupla ```(y, x)```. Debe retornar una imagen donde los pixeles dentro del perímetro valgan uno y el resto cero. El perímetro debe valer cero. Como no llegaremos a los bordes de la imagen, no te preocupes por esos casos extremos."
   ]
  },
  {
   "cell_type": "code",
   "execution_count": null,
   "metadata": {
    "deletable": false,
    "nbgrader": {
     "cell_type": "code",
     "checksum": "324199c49a9b33265708c9a17b7046f3",
     "grade": false,
     "grade_id": "cell-3d134e5775878926",
     "locked": false,
     "schema_version": 3,
     "solution": true,
     "task": false
    }
   },
   "outputs": [],
   "source": [
    "# Escribe tu código en las siguientes líneas\n"
   ]
  },
  {
   "cell_type": "code",
   "execution_count": null,
   "metadata": {
    "deletable": false,
    "editable": false,
    "nbgrader": {
     "cell_type": "code",
     "checksum": "94eacc60555c43730800b097f0904e0a",
     "grade": false,
     "grade_id": "cell-d6e2e047c3f508d6",
     "locked": true,
     "schema_version": 3,
     "solution": false,
     "task": false
    }
   },
   "outputs": [],
   "source": [
    "region_pixel = region_growing_morphology(img_pixel, (5, 5))\n",
    "\n",
    "plt.imshow(region_pixel, cmap='gray')\n",
    "plt.axis('off');"
   ]
  },
  {
   "cell_type": "markdown",
   "metadata": {
    "deletable": false,
    "editable": false,
    "nbgrader": {
     "cell_type": "markdown",
     "checksum": "b09d01463b901ca6abf6e89e17f667bf",
     "grade": false,
     "grade_id": "cell-f94515b39e47aa46",
     "locked": true,
     "schema_version": 3,
     "solution": false,
     "task": false
    }
   },
   "source": [
    "##### Chequeo"
   ]
  },
  {
   "cell_type": "code",
   "execution_count": null,
   "metadata": {
    "deletable": false,
    "editable": false,
    "nbgrader": {
     "cell_type": "code",
     "checksum": "69e08c5fd1cd3d103165d795be6fe713",
     "grade": true,
     "grade_id": "cell-796dd94a48a09af8",
     "locked": true,
     "points": 1,
     "schema_version": 3,
     "solution": false,
     "task": false
    }
   },
   "outputs": [],
   "source": [
    "importlib.reload(checker)\n",
    "assert checker.check_region_pixel(region_pixel)"
   ]
  },
  {
   "cell_type": "markdown",
   "metadata": {
    "deletable": false,
    "editable": false,
    "nbgrader": {
     "cell_type": "markdown",
     "checksum": "6c0d5adf6b390370c43e23b378ecd158",
     "grade": false,
     "grade_id": "cell-ad7ae2bae255827f",
     "locked": true,
     "schema_version": 3,
     "solution": false,
     "task": false
    }
   },
   "source": [
    "## Parte 2 · Segmentación de imágenes a color\n",
    "\n",
    "Tenemos una foto de una apetitosa ensalada de fruta y queremos extraer una frambuesa y una uva. Estas están señaladas en la imagen a color."
   ]
  },
  {
   "cell_type": "code",
   "execution_count": null,
   "metadata": {
    "deletable": false,
    "editable": false,
    "nbgrader": {
     "cell_type": "code",
     "checksum": "6f5ca89c650346851d98e32415d29b7b",
     "grade": false,
     "grade_id": "cell-f6ad3a6ab4cbbd21",
     "locked": true,
     "schema_version": 3,
     "solution": false,
     "task": false
    }
   },
   "outputs": [],
   "source": [
    "img_fruit_path = 'fruit.png'\n",
    "img_fruit = cv2.imread(img_fruit_path, cv2.IMREAD_COLOR)"
   ]
  },
  {
   "cell_type": "code",
   "execution_count": null,
   "metadata": {
    "deletable": false,
    "editable": false,
    "nbgrader": {
     "cell_type": "code",
     "checksum": "314469e8f474284b9f147ecae68dce7a",
     "grade": false,
     "grade_id": "cell-aa9e4c814814b510",
     "locked": true,
     "schema_version": 3,
     "solution": false,
     "task": false
    }
   },
   "outputs": [],
   "source": [
    "fig, axs = plt.subplots(1, 2)\n",
    "\n",
    "axs[0].imshow(cv2.cvtColor(img_fruit, cv2.COLOR_BGR2RGB))\n",
    "circle = plt.Circle((190, 170), 40, color='royalblue', fill=False)\n",
    "axs[0].add_patch(circle)\n",
    "circle = plt.Circle((290, 95), 40, color='royalblue', fill=False)\n",
    "axs[0].add_patch(circle)\n",
    "axs[0].axis('off')\n",
    "\n",
    "axs[1].imshow(cv2.cvtColor(img_fruit, cv2.COLOR_BGR2GRAY), cmap='gray')\n",
    "axs[1].axis('off');"
   ]
  },
  {
   "cell_type": "markdown",
   "metadata": {
    "deletable": false,
    "editable": false,
    "nbgrader": {
     "cell_type": "markdown",
     "checksum": "2b775db2528b08960e2614a5fdf7561e",
     "grade": false,
     "grade_id": "cell-49e3d1bc5285f2db",
     "locked": true,
     "schema_version": 3,
     "solution": false,
     "task": false
    }
   },
   "source": [
    "La imagen en escala de grises no pareciera ser favorable para segmentar las frutas. Veamos cómo se ve cada canal por separado."
   ]
  },
  {
   "cell_type": "code",
   "execution_count": null,
   "metadata": {
    "deletable": false,
    "editable": false,
    "nbgrader": {
     "cell_type": "code",
     "checksum": "dd89778d95936246a4f7f3c042491241",
     "grade": false,
     "grade_id": "cell-129983121ddcb561",
     "locked": true,
     "schema_version": 3,
     "solution": false,
     "task": false
    }
   },
   "outputs": [],
   "source": [
    "plt.subplot(1, 3, 1)\n",
    "plt.imshow(img_fruit[:, :, 0], cmap='gray')\n",
    "plt.axis('off')\n",
    "plt.title('Canal azul')\n",
    "\n",
    "plt.subplot(1, 3, 2)\n",
    "plt.imshow(img_fruit[:, :, 1], cmap='gray')\n",
    "plt.axis('off')\n",
    "plt.title('Canal verde')\n",
    "\n",
    "plt.subplot(1, 3, 3)\n",
    "plt.imshow(img_fruit[:, :, 2], cmap='gray')\n",
    "plt.axis('off')\n",
    "plt.title('Canal rojo');"
   ]
  },
  {
   "cell_type": "markdown",
   "metadata": {
    "deletable": false,
    "editable": false,
    "nbgrader": {
     "cell_type": "markdown",
     "checksum": "784663de596b672765a4bb364d346934",
     "grade": false,
     "grade_id": "cell-5ce7c372ec25c893",
     "locked": true,
     "schema_version": 3,
     "solution": false,
     "task": false
    }
   },
   "source": [
    "En el canal azul hay un bajo contraste entre las frutas. En el verde y rojo se ven mayores diferencias.\n",
    "\n",
    "Podemos crear una nueva imagen a partir de la suma ponderada de los canales. A través de ensayo y error se encuentra una combinación que exhibe un gran contraste entre las distintas frutas. Es importante notar que los pixeles de la imagen ya no estarán entre 0 y 255."
   ]
  },
  {
   "cell_type": "code",
   "execution_count": null,
   "metadata": {
    "deletable": false,
    "editable": false,
    "nbgrader": {
     "cell_type": "code",
     "checksum": "4958f3623a74e12ef96b14a410917e27",
     "grade": false,
     "grade_id": "cell-cb73aa06804c3d1b",
     "locked": true,
     "schema_version": 3,
     "solution": false,
     "task": false
    }
   },
   "outputs": [],
   "source": [
    "img_fruit_new = img_fruit.astype(np.int16)\n",
    "img_fruit_new = (img_fruit_new[:, :, 0] + img_fruit_new[:, :, 2] - 2*img_fruit_new[:, :, 1])"
   ]
  },
  {
   "cell_type": "code",
   "execution_count": null,
   "metadata": {
    "deletable": false,
    "editable": false,
    "nbgrader": {
     "cell_type": "code",
     "checksum": "cde844c1dd99ce51059b76a5a9a2c261",
     "grade": false,
     "grade_id": "cell-32783b3ac9921915",
     "locked": true,
     "schema_version": 3,
     "solution": false,
     "task": false
    }
   },
   "outputs": [],
   "source": [
    "plt.subplot(1, 1, 1)\n",
    "plt.imshow(img_fruit_new, cmap='gray')\n",
    "plt.axis('off');"
   ]
  },
  {
   "cell_type": "markdown",
   "metadata": {
    "deletable": false,
    "editable": false,
    "nbgrader": {
     "cell_type": "markdown",
     "checksum": "52bf293a1101a68c59d227afedd530cc",
     "grade": false,
     "grade_id": "cell-53f070f00e5c5916",
     "locked": true,
     "schema_version": 3,
     "solution": false,
     "task": false
    }
   },
   "source": [
    "Las dos frutas que queremos extraer tienen un tono de gris distinto al de sus alrededores, lo que nos facilitará el trabajo que sigue.\n",
    "\n",
    "Veamos qué pasa cuando intentamos segmentar las frutas con umbrales globales."
   ]
  },
  {
   "cell_type": "code",
   "execution_count": null,
   "metadata": {
    "deletable": false,
    "editable": false,
    "nbgrader": {
     "cell_type": "code",
     "checksum": "d332b10acf3b1f021915e0e32416ce47",
     "grade": false,
     "grade_id": "cell-32221143a80b6654",
     "locked": true,
     "schema_version": 3,
     "solution": false,
     "task": false
    }
   },
   "outputs": [],
   "source": [
    "plt.subplot(1, 2, 1)\n",
    "plt.imshow(img_fruit_new > 100, cmap='gray')\n",
    "plt.axis('off')\n",
    "\n",
    "plt.subplot(1, 2, 2)\n",
    "plt.imshow(img_fruit_new < -50, cmap='gray')\n",
    "plt.axis('off');"
   ]
  },
  {
   "cell_type": "markdown",
   "metadata": {
    "deletable": false,
    "editable": false,
    "nbgrader": {
     "cell_type": "markdown",
     "checksum": "30e4002be9277ecb1fc2ec69d49ee0cf",
     "grade": false,
     "grade_id": "cell-709f3889ffd71377",
     "locked": true,
     "schema_version": 3,
     "solution": false,
     "task": false
    }
   },
   "source": [
    "Las frutas que queremos extraer se segmentan medianamente bien, pero obviamente no son lo único presente en la imagen. Necesitamos una estrategia distinta. Utilicemos un algoritmo de _region growing_ que nos permita obtener los pixeles conectados y con tono de gris similar a un pixel semilla.\n",
    "\n",
    "Implementa el algoritmo de _region growing_ en la función ```region_growing_grayscale```. Esta debe recibir una imagen en escala de grises, las coordenadas de un pixel semilla ```(y, x)``` y un _threshold_. Debe hacer crecer el pixel semilla, agregando todo pixel _[4-connected](https://en.wikipedia.org/wiki/Pixel_connectivity#4-connected)_ cuyo valor se diferencie en menos de ```threshold``` al pixel semilla. Debe retornar una imagen donde los pixeles pertenecientes a la región valgan uno y el resto cero. Como no llegaremos a los bordes de la imagen, no te preocupes por esos casos extremos.\n",
    "\n",
    "En [este](https://en.wikipedia.org/wiki/Flood_fill) artículo puedes encontrar el pseudo-código de algoritmos que podrían ayudarte."
   ]
  },
  {
   "cell_type": "code",
   "execution_count": null,
   "metadata": {
    "deletable": false,
    "nbgrader": {
     "cell_type": "code",
     "checksum": "096792334aae211dec62422baa030c11",
     "grade": false,
     "grade_id": "cell-babce967f98aee68",
     "locked": false,
     "schema_version": 3,
     "solution": true,
     "task": false
    }
   },
   "outputs": [],
   "source": [
    "# Escribe tu código en las siguientes líneas\n"
   ]
  },
  {
   "cell_type": "markdown",
   "metadata": {
    "deletable": false,
    "editable": false,
    "nbgrader": {
     "cell_type": "markdown",
     "checksum": "3681c1d68924fe5145d6dee267d16498",
     "grade": false,
     "grade_id": "cell-94f2f1e53b4323b0",
     "locked": true,
     "schema_version": 3,
     "solution": false,
     "task": false
    }
   },
   "source": [
    "Segmentemos la frambuesa con el algoritmo. El pixel semilla está en (170, 190) y usaremos un _threshold_ igual a 60."
   ]
  },
  {
   "cell_type": "code",
   "execution_count": null,
   "metadata": {
    "deletable": false,
    "editable": false,
    "nbgrader": {
     "cell_type": "code",
     "checksum": "17ea5bf5b46636f1dd9a3fe53a2f8575",
     "grade": false,
     "grade_id": "cell-4c3831865ca57a61",
     "locked": true,
     "schema_version": 3,
     "solution": false,
     "task": false
    }
   },
   "outputs": [],
   "source": [
    "mask_raspberry = region_growing_grayscale(img_fruit_new, (170, 190), 60)\n",
    "\n",
    "plt.imshow(mask_raspberry, cmap='gray')\n",
    "plt.axis('off');"
   ]
  },
  {
   "cell_type": "markdown",
   "metadata": {
    "deletable": false,
    "editable": false,
    "nbgrader": {
     "cell_type": "markdown",
     "checksum": "8ab6be5ab088e8a50eea32797107ea2b",
     "grade": false,
     "grade_id": "cell-14d8955e5120355f",
     "locked": true,
     "schema_version": 3,
     "solution": false,
     "task": false
    }
   },
   "source": [
    "Si el algoritmo funciona correctamente, deberías ver la forma de la frambuesa en blanco."
   ]
  },
  {
   "cell_type": "markdown",
   "metadata": {
    "deletable": false,
    "editable": false,
    "nbgrader": {
     "cell_type": "markdown",
     "checksum": "0e2b5749f1d36fed8ad43d3cf56b448a",
     "grade": false,
     "grade_id": "cell-6d9d7fce81a2c0e1",
     "locked": true,
     "schema_version": 3,
     "solution": false,
     "task": false
    }
   },
   "source": [
    "##### Chequeo"
   ]
  },
  {
   "cell_type": "code",
   "execution_count": null,
   "metadata": {
    "deletable": false,
    "editable": false,
    "nbgrader": {
     "cell_type": "code",
     "checksum": "8eccb6daf69bea1aee421b66ec698bdb",
     "grade": true,
     "grade_id": "cell-1da38a7af257d2c3",
     "locked": true,
     "points": 1,
     "schema_version": 3,
     "solution": false,
     "task": false
    }
   },
   "outputs": [],
   "source": [
    "importlib.reload(checker)\n",
    "assert checker.check_mask_raspberry(mask_raspberry)"
   ]
  },
  {
   "cell_type": "markdown",
   "metadata": {
    "deletable": false,
    "editable": false,
    "nbgrader": {
     "cell_type": "markdown",
     "checksum": "f284c56bd276653c7cc0831e75ccc428",
     "grade": false,
     "grade_id": "cell-f446128a64208c05",
     "locked": true,
     "schema_version": 3,
     "solution": false,
     "task": false
    }
   },
   "source": [
    "Repitamos lo mismo para la uva y veamos cómo nos va."
   ]
  },
  {
   "cell_type": "code",
   "execution_count": null,
   "metadata": {
    "deletable": false,
    "editable": false,
    "nbgrader": {
     "cell_type": "code",
     "checksum": "78faf20f61fd1f8d4eb14cac55ae8385",
     "grade": false,
     "grade_id": "cell-7d496560aa638978",
     "locked": true,
     "schema_version": 3,
     "solution": false,
     "task": false
    }
   },
   "outputs": [],
   "source": [
    "mask_grape = region_growing_grayscale(img_fruit_new, (100, 295), 60)\n",
    "\n",
    "plt.imshow(mask_grape, cmap='gray')\n",
    "plt.axis('off');"
   ]
  },
  {
   "cell_type": "markdown",
   "metadata": {
    "deletable": false,
    "editable": false,
    "nbgrader": {
     "cell_type": "markdown",
     "checksum": "ba4972f77eb7b7b25d7bb68d89b13b72",
     "grade": false,
     "grade_id": "cell-e670a33828ce9ccd",
     "locked": true,
     "schema_version": 3,
     "solution": false,
     "task": false
    }
   },
   "source": [
    "Como hay una uva de un color similar al lado de la que queremos segmentar, esta también fue incluida en la máscara. Bajemos el umbral a 30."
   ]
  },
  {
   "cell_type": "code",
   "execution_count": null,
   "metadata": {
    "deletable": false,
    "editable": false,
    "nbgrader": {
     "cell_type": "code",
     "checksum": "9b641a0f283969d48104f25cf5d7ef68",
     "grade": false,
     "grade_id": "cell-b04627d69def21bf",
     "locked": true,
     "schema_version": 3,
     "solution": false,
     "task": false
    }
   },
   "outputs": [],
   "source": [
    "mask_grape = region_growing_grayscale(img_fruit_new, (100, 295), 30)\n",
    "\n",
    "plt.imshow(mask_grape, cmap='gray')\n",
    "plt.axis('off');"
   ]
  },
  {
   "cell_type": "markdown",
   "metadata": {
    "deletable": false,
    "editable": false,
    "nbgrader": {
     "cell_type": "markdown",
     "checksum": "2a9515b6182fa18be5ade621f0e770a7",
     "grade": false,
     "grade_id": "cell-4b5ac65eebbce010",
     "locked": true,
     "schema_version": 3,
     "solution": false,
     "task": false
    }
   },
   "source": [
    "Logramos eliminar la segunda uva pero ahora faltó parte de la primera. Como vimos en clases, podemos rellenar agujeros realizando primero una dilatación y después una erosión.\n",
    "\n",
    "Cierra los agujeros aplicando tres dilataciones y luego tres erosiones. Guarda el resultado en ```mask_grape_filled```. Usa las funciones de [aquí](https://docs.scipy.org/doc/scipy/reference/ndimage.html#morphology)."
   ]
  },
  {
   "cell_type": "code",
   "execution_count": null,
   "metadata": {
    "deletable": false,
    "nbgrader": {
     "cell_type": "code",
     "checksum": "533c02eb6f229edb71662d7647e0492d",
     "grade": false,
     "grade_id": "cell-a6ee88e2e628571e",
     "locked": false,
     "schema_version": 3,
     "solution": true,
     "task": false
    }
   },
   "outputs": [],
   "source": [
    "# Escribe tu código en las siguientes líneas\n"
   ]
  },
  {
   "cell_type": "code",
   "execution_count": null,
   "metadata": {
    "deletable": false,
    "editable": false,
    "nbgrader": {
     "cell_type": "code",
     "checksum": "36733765cf5c0b81ea38e3a0c707128e",
     "grade": false,
     "grade_id": "cell-a69ca98c5351a029",
     "locked": true,
     "schema_version": 3,
     "solution": false,
     "task": false
    }
   },
   "outputs": [],
   "source": [
    "# Transformamos a 0 y 1\n",
    "mask_grape_filled = mask_grape_filled.astype(np.uint8)"
   ]
  },
  {
   "cell_type": "code",
   "execution_count": null,
   "metadata": {
    "deletable": false,
    "editable": false,
    "nbgrader": {
     "cell_type": "code",
     "checksum": "dfd356f05acd8f65a5004e3424bbd5a9",
     "grade": false,
     "grade_id": "cell-a0ed5681e5c62033",
     "locked": true,
     "schema_version": 3,
     "solution": false,
     "task": false
    }
   },
   "outputs": [],
   "source": [
    "plt.imshow(mask_grape_filled, cmap='gray')\n",
    "plt.axis('off');"
   ]
  },
  {
   "cell_type": "markdown",
   "metadata": {
    "deletable": false,
    "editable": false,
    "nbgrader": {
     "cell_type": "markdown",
     "checksum": "4abf350e6cb4c75961bee774c86be42d",
     "grade": false,
     "grade_id": "cell-4fddae2a173bd665",
     "locked": true,
     "schema_version": 3,
     "solution": false,
     "task": false
    }
   },
   "source": [
    "##### Chequeo"
   ]
  },
  {
   "cell_type": "code",
   "execution_count": null,
   "metadata": {
    "deletable": false,
    "editable": false,
    "nbgrader": {
     "cell_type": "code",
     "checksum": "8f7d643f3726031b28e5611b48ef0f5c",
     "grade": true,
     "grade_id": "cell-6cf711f11940042d",
     "locked": true,
     "points": 1,
     "schema_version": 3,
     "solution": false,
     "task": false
    }
   },
   "outputs": [],
   "source": [
    "importlib.reload(checker)\n",
    "assert checker.check_mask_grape_filled(mask_grape_filled)"
   ]
  },
  {
   "cell_type": "markdown",
   "metadata": {
    "deletable": false,
    "editable": false,
    "nbgrader": {
     "cell_type": "markdown",
     "checksum": "2e5799980c3a0171e4ce95848bfd92d3",
     "grade": false,
     "grade_id": "cell-0cc811a9452839eb",
     "locked": true,
     "schema_version": 3,
     "solution": false,
     "task": false
    }
   },
   "source": [
    "Finalmente, apliquemos las máscaras obtenidas a la imagen a color original para obtener una imagen que solo incluya las dos frutas a color. Ya hemos hecho esto en tareas pasadas. Guarda el resultado en ```img_fruit_masked```. Debe ser un arreglo tridimensional compuesto por ```uint8``` entre 0 y 255."
   ]
  },
  {
   "cell_type": "code",
   "execution_count": null,
   "metadata": {
    "deletable": false,
    "nbgrader": {
     "cell_type": "code",
     "checksum": "da417221ddddbd14b4a23295fc9c7850",
     "grade": false,
     "grade_id": "cell-df23d86172b0b673",
     "locked": false,
     "schema_version": 3,
     "solution": true,
     "task": false
    }
   },
   "outputs": [],
   "source": [
    "# Escribe tu código en las siguientes líneas\n"
   ]
  },
  {
   "cell_type": "code",
   "execution_count": null,
   "metadata": {},
   "outputs": [],
   "source": [
    "print(img_fruit_masked.shape)"
   ]
  },
  {
   "cell_type": "code",
   "execution_count": null,
   "metadata": {
    "deletable": false,
    "editable": false,
    "nbgrader": {
     "cell_type": "code",
     "checksum": "a1780109ec98eb6110e00259af8a022f",
     "grade": false,
     "grade_id": "cell-727044a5960fdfcb",
     "locked": true,
     "schema_version": 3,
     "solution": false,
     "task": false
    }
   },
   "outputs": [],
   "source": [
    "plt.subplot(1, 1, 1)\n",
    "plt.imshow(img_fruit_masked[:, :, ::-1])\n",
    "plt.axis('off');"
   ]
  },
  {
   "cell_type": "markdown",
   "metadata": {
    "deletable": false,
    "editable": false,
    "nbgrader": {
     "cell_type": "markdown",
     "checksum": "2447b86969fd2c9b3e6eb03a8aaf3cff",
     "grade": false,
     "grade_id": "cell-9885d4f7208504ae",
     "locked": true,
     "schema_version": 3,
     "solution": false,
     "task": false
    }
   },
   "source": [
    "##### Chequeo"
   ]
  },
  {
   "cell_type": "code",
   "execution_count": null,
   "metadata": {
    "deletable": false,
    "editable": false,
    "nbgrader": {
     "cell_type": "code",
     "checksum": "4554882c1fa2a8141bbd48d4debc55cc",
     "grade": true,
     "grade_id": "cell-294324d13cff997c",
     "locked": true,
     "points": 1,
     "schema_version": 3,
     "solution": false,
     "task": false
    }
   },
   "outputs": [],
   "source": [
    "importlib.reload(checker)\n",
    "assert checker.check_img_fruit_masked(img_fruit_masked)"
   ]
  },
  {
   "cell_type": "markdown",
   "metadata": {
    "deletable": false,
    "editable": false,
    "nbgrader": {
     "cell_type": "markdown",
     "checksum": "fe2568e55c156100577e59b64418b74e",
     "grade": false,
     "grade_id": "cell-416019b87d68aebc",
     "locked": true,
     "schema_version": 3,
     "solution": false,
     "task": false
    }
   },
   "source": [
    "¡Fantástico! Aprendiste a rellenar el interior de un perímetro y lograste segmentar dos frutas usando operaciones morfológicas."
   ]
  },
  {
   "cell_type": "markdown",
   "metadata": {
    "deletable": false,
    "editable": false,
    "nbgrader": {
     "cell_type": "markdown",
     "checksum": "75f6973e21517fd1e9fe43a71175c2de",
     "grade": false,
     "grade_id": "cell-d362781fa0c19b34",
     "locked": true,
     "schema_version": 3,
     "solution": false,
     "task": false
    }
   },
   "source": [
    "## Chequeo final\n",
    "\n",
    "La siguiente función revisará si los valores están correctos corriendo los mismos chequeos que antes.\n",
    "\n",
    "Recuerda presionar _Validate_ arriba para que la plataforma corra todos los tests."
   ]
  },
  {
   "cell_type": "code",
   "execution_count": null,
   "metadata": {
    "deletable": false,
    "editable": false,
    "nbgrader": {
     "cell_type": "code",
     "checksum": "2cce1393ec5522c82ebce364b4ca4973",
     "grade": true,
     "grade_id": "cell-e9b215cfc03cd045",
     "locked": true,
     "points": 1,
     "schema_version": 3,
     "solution": false,
     "task": false
    }
   },
   "outputs": [],
   "source": [
    "importlib.reload(checker)\n",
    "assert checker.check_all(region_pixel, mask_raspberry, mask_grape_filled, img_fruit_masked)"
   ]
  }
 ],
 "metadata": {
  "kernelspec": {
   "display_name": "Python 3",
   "language": "python",
   "name": "python3"
  },
  "language_info": {
   "codemirror_mode": {
    "name": "ipython",
    "version": 3
   },
   "file_extension": ".py",
   "mimetype": "text/x-python",
   "name": "python",
   "nbconvert_exporter": "python",
   "pygments_lexer": "ipython3",
   "version": "3.7.6"
  }
 },
 "nbformat": 4,
 "nbformat_minor": 4
}
