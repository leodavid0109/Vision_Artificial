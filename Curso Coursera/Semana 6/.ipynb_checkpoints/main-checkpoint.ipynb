{
 "cells": [
  {
   "cell_type": "markdown",
   "metadata": {
    "deletable": false,
    "editable": false,
    "nbgrader": {
     "cell_type": "markdown",
     "checksum": "b75f482424f7530e2fb84a2d0c192cf9",
     "grade": false,
     "grade_id": "cell-22d410ef74c9da24",
     "locked": true,
     "schema_version": 3,
     "solution": false,
     "task": false
    }
   },
   "source": [
    "# Procesamiento de imágenes · Tarea 5"
   ]
  },
  {
   "cell_type": "markdown",
   "metadata": {
    "deletable": false,
    "editable": false,
    "nbgrader": {
     "cell_type": "markdown",
     "checksum": "c77d25d66e93d44c68d13a2ba8fabf96",
     "grade": false,
     "grade_id": "cell-22038036ac04dd0b",
     "locked": true,
     "schema_version": 3,
     "solution": false,
     "task": false
    }
   },
   "source": [
    "Cuando una imagen no se toma adecuadamente, lo ideal sería volver a tomarla. Sin embargo, resulta complicado lograr esto si el evento ya ocurrió hace un tiempo. En casos como este resulta útil mejorar la imagen con la ayuda del procesamiento de imágenes.\n",
    "\n",
    "Tenemos una radiografía que tiene _motion blur_ porque la mochila se estaba moviendo mientras la fotografía fue tomada. Podemos estimar la función de degradación para intentar recuperar información de la imagen original.\n",
    "\n",
    "### Importante\n",
    "* Lee atentamente las instrucciones y todo el código.\n",
    "* Ejecuta las celdas en orden.\n",
    "* Escribe tu código en las celdas que lo soliciten.\n",
    "* Usa los nombres de variables que te pidan.\n",
    "* Confirma que tu código esté correcto corriendo las celdas que dicen \"Chequeo\".\n",
    "* Si el chequeo alerta que hay alguna variable incorrecta, vuelve atrás y arréglala. No hay penalización por esto."
   ]
  },
  {
   "cell_type": "markdown",
   "metadata": {
    "deletable": false,
    "editable": false,
    "nbgrader": {
     "cell_type": "markdown",
     "checksum": "9f49279f09cb0f5b9bfba848618cf12d",
     "grade": false,
     "grade_id": "cell-df617b0a6338b6a8",
     "locked": true,
     "schema_version": 3,
     "solution": false,
     "task": false
    }
   },
   "source": [
    "\n",
    "### Imagen degradada\n",
    "<img src=\"xray_motion.png\" alt=\"drawing\" width=\"600\"/>\n",
    "\n",
    "### Imagen restaurada\n",
    "<img src=\"xray_restored.png\" alt=\"drawing\" width=\"600\"/>"
   ]
  },
  {
   "cell_type": "markdown",
   "metadata": {
    "deletable": false,
    "editable": false,
    "nbgrader": {
     "cell_type": "markdown",
     "checksum": "469a318447393698c9f6b16dc7bde9a2",
     "grade": false,
     "grade_id": "cell-cd62da1183be5e54",
     "locked": true,
     "schema_version": 3,
     "solution": false,
     "task": false
    }
   },
   "source": [
    "Esta tarea será distinta a las anteriores. Serás libre de cumplir el objetivo a tu mandera. Puedes usar la librería y el código que desees.\n",
    "\n",
    "[Aquí](https://scikit-image.org/docs/stable/auto_examples/filters/plot_restoration.html) y [aquí](https://docs.opencv.org/4.5.2/d1/dfd/tutorial_motion_deblur_filter.html) hay unos links que podrían servirte."
   ]
  },
  {
   "cell_type": "markdown",
   "metadata": {
    "deletable": false,
    "editable": false,
    "nbgrader": {
     "cell_type": "markdown",
     "checksum": "d7a9935bf6093fcd696341be527f60c5",
     "grade": false,
     "grade_id": "cell-9053a901628cc4a1",
     "locked": true,
     "schema_version": 3,
     "solution": false,
     "task": false
    }
   },
   "source": [
    "##### Importamos las librerías para el chequeo"
   ]
  },
  {
   "cell_type": "code",
   "execution_count": 3,
   "metadata": {
    "deletable": false,
    "editable": false,
    "nbgrader": {
     "cell_type": "code",
     "checksum": "8e1d9ecdff8120f6a888ccfe9b33d590",
     "grade": false,
     "grade_id": "cell-c19f8ee61954c7f0",
     "locked": true,
     "schema_version": 3,
     "solution": false,
     "task": false
    }
   },
   "outputs": [],
   "source": [
    "import checker\n",
    "import importlib"
   ]
  },
  {
   "cell_type": "markdown",
   "metadata": {
    "deletable": false,
    "editable": false,
    "nbgrader": {
     "cell_type": "markdown",
     "checksum": "713423c0a67d5b4e19aa81fcf010c077",
     "grade": false,
     "grade_id": "cell-a8000ebd9562db92",
     "locked": true,
     "schema_version": 3,
     "solution": false,
     "task": false
    }
   },
   "source": [
    "## Primer problema\n",
    "\n",
    "Nuestro fotógrafo, Alex, es fanático de los autos y quisiera saber la patente de este para conocer en detalle el modelo del auto. Lamentablemente, movió la cámara al sacar la foto y la patente quedó ilegible.\n",
    "\n",
    "<img src=\"car_motion.png\" alt=\"drawing\" width=\"400\"/>\n",
    "\n",
    "Restaura la imagen para ayudar a Alex a recuperar la patente del auto. La imagen borrosa está almacenada en ```car_motion.png```. Escribe la patente que descubras (sin guiones ni espacios) en ```plate_1``` y la imagen resultante (como un ```numpy.ndarray```) en ```img_restored_1```. ¡Suerte!\n",
    "\n",
    "Tip: si cargas la imagen con ```cv2.imread```, recuerda que los pixeles retornados son ```np.uint8``` y están entre 0 y 255. Algunas funciones de restauración reciben _floats_ entre 0 y 1 por lo que podrías necesitar modificar la imagen.\n",
    "\n",
    "**Tip:** analiza las esquinas de la imagen para descubrir qué degradación fue aplicada."
   ]
  },
  {
   "cell_type": "code",
   "execution_count": 4,
   "metadata": {
    "deletable": false,
    "nbgrader": {
     "cell_type": "code",
     "checksum": "dced39e5f5f1f9d24fa27115fd27f2cd",
     "grade": false,
     "grade_id": "cell-5be08b05852543cc",
     "locked": false,
     "schema_version": 3,
     "solution": true,
     "task": false
    }
   },
   "outputs": [],
   "source": [
    "# Escribe tu código en las siguientes líneas\n",
    "import cv2\n",
    "import numpy as np\n",
    "from skimage import restoration\n",
    "\n",
    "img = cv2.imread('car_motion.png', cv2.IMREAD_GRAYSCALE)\n",
    "img = img / 255.0\n",
    "\n",
    "psf = np.zeros(img.shape)\n",
    "psf[img.shape[0]//2, img.shape[1]//2] = 1\n",
    "\n",
    "img_restored_1 = restoration.wiener(img, psf, 0.1)\n",
    "plate_1 = 'ABC123'"
   ]
  },
  {
   "cell_type": "markdown",
   "metadata": {
    "deletable": false,
    "editable": false,
    "nbgrader": {
     "cell_type": "markdown",
     "checksum": "45dee2a3822ed1cb792d3aab48bdd0b2",
     "grade": false,
     "grade_id": "cell-897a7d092fe60a04",
     "locked": true,
     "schema_version": 3,
     "solution": false,
     "task": false
    }
   },
   "source": [
    "##### Chequeo"
   ]
  },
  {
   "cell_type": "code",
   "execution_count": 5,
   "metadata": {
    "deletable": false,
    "editable": false,
    "nbgrader": {
     "cell_type": "code",
     "checksum": "3733a474d5b134984e74c13550fc0bf8",
     "grade": true,
     "grade_id": "cell-87cdbd50eb44747e",
     "locked": true,
     "points": 1,
     "schema_version": 3,
     "solution": false,
     "task": false
    }
   },
   "outputs": [
    {
     "name": "stdout",
     "output_type": "stream",
     "text": [
      "¡No sigas adelante! La patente no es correcta. Vuelve a intentarlo.\n",
      "Tip: la degradación es diagonal de 20 pixeles.\n"
     ]
    },
    {
     "ename": "AssertionError",
     "evalue": "",
     "output_type": "error",
     "traceback": [
      "\u001b[0;31m---------------------------------------------------------------------------\u001b[0m",
      "\u001b[0;31mAssertionError\u001b[0m                            Traceback (most recent call last)",
      "\u001b[0;32m<ipython-input-5-7f95ba17ac63>\u001b[0m in \u001b[0;36m<module>\u001b[0;34m\u001b[0m\n\u001b[1;32m      1\u001b[0m \u001b[0mimportlib\u001b[0m\u001b[0;34m.\u001b[0m\u001b[0mreload\u001b[0m\u001b[0;34m(\u001b[0m\u001b[0mchecker\u001b[0m\u001b[0;34m)\u001b[0m\u001b[0;34m\u001b[0m\u001b[0;34m\u001b[0m\u001b[0m\n\u001b[1;32m      2\u001b[0m \u001b[0;34m\u001b[0m\u001b[0m\n\u001b[0;32m----> 3\u001b[0;31m \u001b[0;32massert\u001b[0m \u001b[0mchecker\u001b[0m\u001b[0;34m.\u001b[0m\u001b[0mcheck_license_plate_1\u001b[0m\u001b[0;34m(\u001b[0m\u001b[0mplate_1\u001b[0m\u001b[0;34m)\u001b[0m\u001b[0;34m\u001b[0m\u001b[0;34m\u001b[0m\u001b[0m\n\u001b[0m\u001b[1;32m      4\u001b[0m \u001b[0;32massert\u001b[0m \u001b[0mchecker\u001b[0m\u001b[0;34m.\u001b[0m\u001b[0mcheck_img_1\u001b[0m\u001b[0;34m(\u001b[0m\u001b[0mimg_restored_1\u001b[0m\u001b[0;34m)\u001b[0m\u001b[0;34m\u001b[0m\u001b[0;34m\u001b[0m\u001b[0m\n",
      "\u001b[0;31mAssertionError\u001b[0m: "
     ]
    }
   ],
   "source": [
    "importlib.reload(checker)\n",
    "\n",
    "assert checker.check_license_plate_1(plate_1)\n",
    "assert checker.check_img_1(img_restored_1)"
   ]
  },
  {
   "cell_type": "markdown",
   "metadata": {
    "deletable": false,
    "editable": false,
    "nbgrader": {
     "cell_type": "markdown",
     "checksum": "c810922838cca44bec70b04bb1cff0ba",
     "grade": false,
     "grade_id": "cell-b6baeb5eeae05478",
     "locked": true,
     "schema_version": 3,
     "solution": false,
     "task": false
    }
   },
   "source": [
    "## Segundo problema\n",
    "\n",
    "Alex aún no aprende a sacar fotos. Ahora no movió la cámara pero olvidó enfocar, por lo que nuevamente no podemos leer la patente.\n",
    "\n",
    "<img src=\"car_gaussian.png\" alt=\"drawing\" width=\"400\"/>\n",
    "\n",
    "Restaura la imagen para ayudar a Alex a recuperar la patente del auto. La imagen borrosa está almacenada en ```car_gaussian.npy```. Escribe la patente que descubras (sin guiones ni espacios) en ```plate_2``` y la imagen resultante (como un ```numpy.ndarray```) en ```img_restored_2```. ¡Suerte!\n",
    "\n",
    "**¡Importante!** La imagen está almacenada en un archivo ```.npy```, por lo que deberás usar una función distinta a ```cv2.imread```para cargarla.\n",
    "\n",
    "\n",
    "**Tip:** si le aplicáramos la misma degradación a un punto, se vería como la siguiente imagen.\n",
    "<img src=\"psf.png\" alt=\"drawing\" width=\"400\"/>"
   ]
  },
  {
   "cell_type": "code",
   "execution_count": null,
   "metadata": {
    "deletable": false,
    "nbgrader": {
     "cell_type": "code",
     "checksum": "30a882f9fb5bdf0a3c94bba0742aff59",
     "grade": false,
     "grade_id": "cell-572a0968f6067526",
     "locked": false,
     "schema_version": 3,
     "solution": true,
     "task": false
    }
   },
   "outputs": [],
   "source": [
    "# Escribe tu código en las siguientes líneas\n"
   ]
  },
  {
   "cell_type": "markdown",
   "metadata": {
    "deletable": false,
    "editable": false,
    "nbgrader": {
     "cell_type": "markdown",
     "checksum": "3bb0fb5f414ef62fa5d36e002a3b3c3c",
     "grade": false,
     "grade_id": "cell-90370645bc4b4e79",
     "locked": true,
     "schema_version": 3,
     "solution": false,
     "task": false
    }
   },
   "source": [
    "##### Chequeo"
   ]
  },
  {
   "cell_type": "code",
   "execution_count": null,
   "metadata": {
    "deletable": false,
    "editable": false,
    "nbgrader": {
     "cell_type": "code",
     "checksum": "b718b9d7af0ddad0eebc17b51324cfe9",
     "grade": true,
     "grade_id": "cell-082e9fd33726c74a",
     "locked": true,
     "points": 1,
     "schema_version": 3,
     "solution": false,
     "task": false
    }
   },
   "outputs": [],
   "source": [
    "importlib.reload(checker)\n",
    "\n",
    "assert checker.check_license_plate_2(plate_2)\n",
    "assert checker.check_img_2(img_restored_2)"
   ]
  },
  {
   "cell_type": "markdown",
   "metadata": {
    "deletable": false,
    "editable": false,
    "nbgrader": {
     "cell_type": "markdown",
     "checksum": "b81f114ac9b299691bd2c824fcc7b410",
     "grade": false,
     "grade_id": "cell-f5fc4704f53e4c07",
     "locked": true,
     "schema_version": 3,
     "solution": false,
     "task": false
    }
   },
   "source": [
    "**Ayuda:** si no logras descubrir las funciones de degradación, puedes usar ```checker.print_tip_1()``` y  ```checker.print_tip_2()``` para obtener tips."
   ]
  },
  {
   "cell_type": "markdown",
   "metadata": {
    "deletable": false,
    "editable": false,
    "nbgrader": {
     "cell_type": "markdown",
     "checksum": "388017d636150390f7c6a5ad9ca4a7c7",
     "grade": false,
     "grade_id": "cell-d04428c410faf416",
     "locked": true,
     "schema_version": 3,
     "solution": false,
     "task": false
    }
   },
   "source": [
    "## Chequeo final\n",
    "\n",
    "La siguiente función revisará si los valores están correctos corriendo los mismos chequeos que antes.\n",
    "\n",
    "Recuerda presionar _Validate_ arriba para que la plataforma corra todos los tests."
   ]
  },
  {
   "cell_type": "code",
   "execution_count": null,
   "metadata": {
    "deletable": false,
    "editable": false,
    "nbgrader": {
     "cell_type": "code",
     "checksum": "0d79ecc5c72f958718d460426052b3bb",
     "grade": true,
     "grade_id": "cell-17ce52b08b365fbc",
     "locked": true,
     "points": 1,
     "schema_version": 3,
     "solution": false,
     "task": false
    }
   },
   "outputs": [],
   "source": [
    "importlib.reload(checker)\n",
    "assert checker.check_all(plate_1, img_restored_1, plate_2, img_restored_2)"
   ]
  }
 ],
 "metadata": {
  "kernelspec": {
   "display_name": "Python 3",
   "language": "python",
   "name": "python3"
  },
  "language_info": {
   "codemirror_mode": {
    "name": "ipython",
    "version": 3
   },
   "file_extension": ".py",
   "mimetype": "text/x-python",
   "name": "python",
   "nbconvert_exporter": "python",
   "pygments_lexer": "ipython3",
   "version": "3.7.6"
  }
 },
 "nbformat": 4,
 "nbformat_minor": 4
}
